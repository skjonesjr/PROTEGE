{
 "cells": [
  {
   "cell_type": "code",
   "execution_count": 1,
   "metadata": {},
   "outputs": [],
   "source": [
    "### This script was used to edit files created within notebooks\n",
    "### 'NucleaSeq Oligo Design - TnpB - D.ipynb' and \n",
    "### 'NucleaSeq Oligo Design - TnpB - E.ipynb'. Those files were generated\n",
    "### using the server in Mindaugas Zaremba's lab at VU."
   ]
  },
  {
   "cell_type": "code",
   "execution_count": null,
   "metadata": {},
   "outputs": [],
   "source": [
    "#Import csv library to interpret csv files\n",
    "\n",
    "import csv"
   ]
  },
  {
   "cell_type": "code",
   "execution_count": 2,
   "metadata": {},
   "outputs": [],
   "source": [
    "#Read library files into lists of lists\n",
    "\n",
    "libraryD = []\n",
    "with open(\"Downloads/exploded_target_D_TnpB_Buffered_seqs.txt\") as csvfile:\n",
    "        data = csv.reader(csvfile, delimiter='\\t')\n",
    "        for row in data:\n",
    "            libraryD.append(row)\n",
    "            \n",
    "libraryE = []\n",
    "with open(\"Downloads/exploded_target_E_TnpB_Buffered_seqs.txt\") as csvfile:\n",
    "        data = csv.reader(csvfile, delimiter='\\t')\n",
    "        for row in data:\n",
    "            libraryE.append(row)"
   ]
  },
  {
   "cell_type": "code",
   "execution_count": 3,
   "metadata": {},
   "outputs": [
    {
     "name": "stdout",
     "output_type": "stream",
     "text": [
      "['TTGGCGGCTTATTGTCTCA', 'CAAGGTCGATATTACAAC', 'ACGCTA', 'TTGATGACGCATAAAGATGAGACGC', 'TAGTGCACACACTGCTGAGACTGACT', 'AT', 'ACGGATCTGCGAGGAAGC', 'TCACACGCTCCGCAAGAA']\n"
     ]
    }
   ],
   "source": [
    "#View sequence composition\n",
    "\n",
    "print libraryE[1]"
   ]
  },
  {
   "cell_type": "code",
   "execution_count": 4,
   "metadata": {},
   "outputs": [],
   "source": [
    "#Make edits to the target libraries\n",
    "\n",
    "for sequence in libraryD:\n",
    "    # Add the Cas9 pam to each target sequence for control\n",
    "    sequence[3] = sequence[3]+'TGG'\n",
    "    # Shorten the right buffer to compensate for Cas9 PAM\n",
    "    sequence[4] = sequence[4][3:]\n",
    "        \n",
    "for sequence in libraryE:\n",
    "    # Shorten left buffer to 5 nucleotides\n",
    "    sequence[2] = sequence[2][:5]\n",
    "    # Add the Cas9 pam to each target sequence for control\n",
    "    sequence[3] = sequence[3]+'TGG'\n",
    "    # Shorten the right buffer to compensate for Cas9 PAM and to make\n",
    "    # it uniform with the target D library's overall length  \n",
    "    sequence[4] = sequence[4][3:-1]"
   ]
  },
  {
   "cell_type": "code",
   "execution_count": 5,
   "metadata": {},
   "outputs": [],
   "source": [
    "#Consolidate D and E libraries into a single list for TnpB\n",
    "\n",
    "TnpB_library = []\n",
    "TnpB_library_exploded = []\n",
    "\n",
    "for sequence in libraryD:\n",
    "    if len(''.join(sequence)) == 130:\n",
    "        TnpB_library_exploded.append(sequence)\n",
    "        TnpB_library.append(''.join(sequence))\n",
    "    # Shorten negative control targets to the same length as all other targets\n",
    "    else:\n",
    "        #print sequence[3]\n",
    "        sequence[3] = sequence[3][:(130-len(''.join(sequence)))]\n",
    "        TnpB_library_exploded.append(sequence)\n",
    "        TnpB_library.append(''.join(sequence))\n",
    "\n",
    "for sequence in libraryE:\n",
    "    if len(''.join(sequence)) == 130:\n",
    "        TnpB_library.append(''.join(sequence))\n",
    "        TnpB_library_exploded.append(sequence)\n",
    "    # Shorten negative control targets to the same length as all other targets\n",
    "    else:\n",
    "        #print sequence[3]\n",
    "        sequence[3] = sequence[3][:(130-len(''.join(sequence)))]\n",
    "        TnpB_library.append(''.join(sequence))\n",
    "        TnpB_library_exploded.append(sequence)"
   ]
  },
  {
   "cell_type": "code",
   "execution_count": 6,
   "metadata": {},
   "outputs": [
    {
     "name": "stdout",
     "output_type": "stream",
     "text": [
      "set([130])\n"
     ]
    }
   ],
   "source": [
    "#Check library size uniformity\n",
    "\n",
    "lengths = []\n",
    "for sequence in TnpB_library:\n",
    "    lengths.append(len(sequence))\n",
    "print set(lengths)"
   ]
  },
  {
   "cell_type": "code",
   "execution_count": 9,
   "metadata": {},
   "outputs": [],
   "source": [
    "#Write libraries to text files for ordering and future analysis\n",
    "\n",
    "with open(\"Downloads/exploded_TnpB_Buffered_seqs_DandE.txt\", 'w') as f: \n",
    "    write = csv.writer(f) \n",
    "    write.writerows(TnpB_library_exploded)\n",
    "with open(\"Downloads/TnpB_Buffered_seqs_DandE.txt\", 'w') as f: \n",
    "    write = csv.writer(f) \n",
    "    write.writerow(TnpB_library)"
   ]
  },
  {
   "cell_type": "code",
   "execution_count": null,
   "metadata": {},
   "outputs": [],
   "source": []
  }
 ],
 "metadata": {
  "kernelspec": {
   "display_name": "Python 3 (ipykernel)",
   "language": "python",
   "name": "python3"
  },
  "language_info": {
   "codemirror_mode": {
    "name": "ipython",
    "version": 3
   },
   "file_extension": ".py",
   "mimetype": "text/x-python",
   "name": "python",
   "nbconvert_exporter": "python",
   "pygments_lexer": "ipython3",
   "version": "3.9.7"
  }
 },
 "nbformat": 4,
 "nbformat_minor": 2
}
